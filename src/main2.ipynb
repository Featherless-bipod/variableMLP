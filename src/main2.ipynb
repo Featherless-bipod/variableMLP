{
 "cells": [
  {
   "cell_type": "code",
   "execution_count": null,
   "id": "bddfbfc8",
   "metadata": {},
   "outputs": [],
   "source": [
    "import nHnN_MLP as nMLP\n",
    "import functions as fun\n",
    "import time\n",
    "import matplotlib as plt\n",
    "import numpy as np"
   ]
  },
  {
   "cell_type": "code",
   "execution_count": 8,
   "id": "060c6ee3",
   "metadata": {},
   "outputs": [],
   "source": [
    "route = '../data/TMNIST_data.csv'\n",
    "#route = 'insert your route here' \n",
    "testAmount = 1000\n",
    "scale = 255\n",
    "results = 10\n",
    "rem_axis = \"names\"\n",
    "\n",
    "\n",
    "test_y,test_x,train_y,train_x, pixels,train_trials,results = nMLP.process_data(route, testAmount, scale, results,rem_axis=rem_axis)"
   ]
  },
  {
   "cell_type": "markdown",
   "id": "19974644",
   "metadata": {},
   "source": [
    "DATA EXTRACTION METHOD"
   ]
  },
  {
   "cell_type": "code",
   "execution_count": 17,
   "id": "0e98b2e2",
   "metadata": {},
   "outputs": [],
   "source": [
    "def train_and_evaluate(H, N, train_x, train_y, test_x, test_y, pixels, results, iters, alpha):\n",
    "    start = time.time()\n",
    "    params,training_accuracy, epoch_time = nMLP.gradient_descent(H, N, train_x, train_y, pixels, results, iters, alpha)\n",
    "    total_duration = time.time() - start\n",
    "    OUT_test, _, _ = nMLP.forward_propogation(test_x, params)\n",
    "    preds = np.argmax(OUT_test, axis=0)\n",
    "    test_acc = np.mean(preds == test_y)\n",
    "    \n",
    "    return test_acc, total_duration, training_accuracy, epoch_time"
   ]
  },
  {
   "cell_type": "markdown",
   "id": "a35c6d3d",
   "metadata": {},
   "source": [
    "VARYING NEURON NUMBERS"
   ]
  },
  {
   "cell_type": "markdown",
   "id": "206e6b26",
   "metadata": {},
   "source": [
    "Obtaining Data:"
   ]
  },
  {
   "cell_type": "code",
   "execution_count": null,
   "id": "a4d99cb6",
   "metadata": {},
   "outputs": [
    {
     "name": "stdout",
     "output_type": "stream",
     "text": [
      "neuron number:2\n",
      "Iteration:0\n",
      "0.12996539792387543\n",
      "Iteration:100\n",
      "0.14027681660899655\n",
      "Iteration:200\n",
      "0.14640138408304498\n",
      "Iteration:300\n",
      "0.15782006920415226\n",
      "Iteration:400\n",
      "0.11373702422145329\n",
      "neuron number:4\n",
      "Iteration:0\n",
      "0.1054325259515571\n",
      "Iteration:100\n",
      "0.1380968858131488\n",
      "Iteration:200\n",
      "0.15525951557093426\n",
      "Iteration:300\n",
      "0.15761245674740484\n",
      "Iteration:400\n",
      "0.17096885813148788\n",
      "neuron number:8\n",
      "Iteration:0\n",
      "0.12975778546712802\n",
      "Iteration:100\n",
      "0.13906574394463667\n",
      "Iteration:200\n",
      "0.226159169550173\n",
      "Iteration:300\n",
      "0.30605536332179933\n",
      "Iteration:400\n",
      "0.3520069204152249\n",
      "neuron number:10\n",
      "Iteration:0\n",
      "0.12484429065743945\n",
      "Iteration:100\n",
      "0.21975778546712801\n",
      "Iteration:200\n",
      "0.336643598615917\n",
      "Iteration:300\n",
      "0.45889273356401383\n",
      "Iteration:400\n",
      "0.5556747404844291\n",
      "neuron number:16\n",
      "Iteration:0\n",
      "0.060761245674740484\n",
      "Iteration:100\n",
      "0.23685121107266435\n",
      "Iteration:200\n",
      "0.4398615916955017\n",
      "Iteration:300\n",
      "0.5641522491349481\n",
      "Iteration:400\n",
      "0.6546020761245674\n",
      "neuron number:32\n",
      "Iteration:0\n",
      "0.13570934256055364\n",
      "Iteration:100\n",
      "0.4211418685121107\n",
      "Iteration:200\n",
      "0.5737024221453287\n",
      "Iteration:300\n",
      "0.6810726643598616\n",
      "Iteration:400\n",
      "0.7515916955017301\n",
      "neuron number:64\n",
      "Iteration:0\n",
      "0.13719723183391003\n",
      "Iteration:100\n",
      "0.7055363321799308\n",
      "Iteration:200\n",
      "0.7905536332179931\n",
      "Iteration:300\n",
      "0.826159169550173\n",
      "Iteration:400\n",
      "0.8485467128027682\n",
      "neuron number:128\n",
      "Iteration:0\n",
      "0.06588235294117648\n",
      "Iteration:100\n",
      "0.7799653979238754\n",
      "Iteration:200\n",
      "0.842076124567474\n",
      "Iteration:300\n",
      "0.8675432525951557\n",
      "Iteration:400\n",
      "0.8838062283737024\n",
      "neuron number:256\n",
      "Iteration:0\n",
      "0.14269896193771625\n",
      "Iteration:100\n",
      "0.8516955017301038\n",
      "Iteration:200\n",
      "0.8919031141868512\n",
      "Iteration:300\n",
      "0.9110034602076125\n",
      "Iteration:400\n",
      "0.9211072664359862\n"
     ]
    }
   ],
   "source": [
    "\n",
    "#Define number of neurons\n",
    "neurons = [2,4,8,10,16,32,64,128,256]\n",
    "\n",
    "#Define data arrays\n",
    "test_accs = []\n",
    "total_times = []\n",
    "training_accuracies = []\n",
    "epoch_times = []\n",
    "\n",
    "#Collect Data\n",
    "for N in neurons:\n",
    "    print(f\"neuron number:{N}\")\n",
    "    test_acc, total_duration, training_accuracy, epoch_time = train_and_evaluate(H=2, N=N, train_x=train_x, train_y=train_y,\n",
    "                                                                                        test_x=test_x, test_y=test_y,\n",
    "                                                                                        pixels=pixels, results=10, iters=500, alpha=0.01)\n",
    "    test_accs.append(test_acc)\n",
    "    total_times.append(total_duration)\n",
    "    training_accuracies.append(training_accuracy)\n",
    "    epoch_times.append(epoch_time)\n"
   ]
  },
  {
   "cell_type": "code",
   "execution_count": 23,
   "id": "73a20759",
   "metadata": {},
   "outputs": [
    {
     "data": {
      "image/png": "[encoded data removed]",
      "text/plain": [
       "<Figure size 640x480 with 1 Axes>"
      ]
     },
     "metadata": {},
     "output_type": "display_data"
    }
   ],
   "source": [
    "plt.plot(neurons, test_accs, marker='o')\n",
    "plt.xlabel(\"Neurons per hidden layer\")\n",
    "plt.ylabel(\"Test Accuracy\")\n",
    "plt.title(\"Accuracy vs Hidden Layer Width\")\n",
    "plt.show()"
   ]
  },
  {
   "cell_type": "markdown",
   "id": "0a05f03d",
   "metadata": {},
   "source": [
    "VARYING HIDDEN LAYER NUMBER"
   ]
  },
  {
   "cell_type": "code",
   "execution_count": null,
   "id": "a39abbed",
   "metadata": {},
   "outputs": [],
   "source": [
    "\n",
    "#Define number of neurons\n",
    "hidden_layers = [1,2,3,5,10,15,20]\n",
    "\n",
    "#Define data arrays\n",
    "test_accs = []\n",
    "total_times = []\n",
    "training_accuracies = []\n",
    "epoch_times = []\n",
    "\n",
    "#Collect Data\n",
    "for N in neurons:\n",
    "    print(f\"neuron number:{N}\")\n",
    "    test_acc, total_duration,training_accuracy, epoch_time = train_and_evaluate(hidden_layers, N=10, train_x=train_x, train_y=train_y,\n",
    "                                                                                        test_x=test_x, test_y=test_y,\n",
    "                                                                                        pixels=pixels, results=10, iters=500, alpha=0.01)\n",
    "    test_accs.append(test_acc)\n",
    "    total_times.append(total_duration)\n",
    "    training_accuracies.append(training_accuracy)\n",
    "    epoch_times.append(epoch_time)\n"
   ]
  }
 ],
 "metadata": {
  "kernelspec": {
   "display_name": "Python 3",
   "language": "python",
   "name": "python3"
  },
  "language_info": {
   "codemirror_mode": {
    "name": "ipython",
    "version": 3
   },
   "file_extension": ".py",
   "mimetype": "text/x-python",
   "name": "python",
   "nbconvert_exporter": "python",
   "pygments_lexer": "ipython3",
   "version": "3.12.4"
  }
 },
 "nbformat": 4,
 "nbformat_minor": 5
}
