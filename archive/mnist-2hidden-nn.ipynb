{
 "cells": [
  {
   "cell_type": "code",
   "execution_count": 44,
   "metadata": {
    "_cell_guid": "b1076dfc-b9ad-4769-8c92-a6c4dae69d19",
    "_uuid": "8f2839f25d086af736a60e9eeb907d3b93b6e0e5",
    "editable": false,
    "execution": {
     "iopub.execute_input": "2025-04-28T01:11:48.528951Z",
     "iopub.status.busy": "2025-04-28T01:11:48.528565Z",
     "iopub.status.idle": "2025-04-28T01:11:52.698481Z",
     "shell.execute_reply": "2025-04-28T01:11:52.697488Z",
     "shell.execute_reply.started": "2025-04-28T01:11:48.528922Z"
    },
    "trusted": true
   },
   "outputs": [],
   "source": [
    "import numpy as np # linear algebra\n",
    "import pandas as pd # data processing, CSV file I/O (e.g. pd.read_csv)\n",
    "from matplotlib import pyplot as plt\n",
    "\n",
    "data = pd.read_csv('TMNIST_Data.csv')\n"
   ]
  },
  {
   "cell_type": "code",
   "execution_count": 45,
   "metadata": {
    "editable": false,
    "execution": {
     "iopub.execute_input": "2025-04-28T01:11:57.913502Z",
     "iopub.status.busy": "2025-04-28T01:11:57.913167Z",
     "iopub.status.idle": "2025-04-28T01:11:57.948760Z",
     "shell.execute_reply": "2025-04-28T01:11:57.947896Z",
     "shell.execute_reply.started": "2025-04-28T01:11:57.913475Z"
    },
    "trusted": true
   },
   "outputs": [],
   "source": [
    "data.head()\n",
    "data = data.drop(\"names\",axis=1)"
   ]
  },
  {
   "cell_type": "code",
   "execution_count": 46,
   "metadata": {
    "editable": false,
    "execution": {
     "iopub.execute_input": "2025-04-28T01:14:57.801523Z",
     "iopub.status.busy": "2025-04-28T01:14:57.801161Z",
     "iopub.status.idle": "2025-04-28T01:14:58.637147Z",
     "shell.execute_reply": "2025-04-28T01:14:58.636136Z",
     "shell.execute_reply.started": "2025-04-28T01:14:57.801497Z"
    },
    "trusted": true
   },
   "outputs": [],
   "source": [
    "#dataset initialization\n",
    "data = np.array(data)\n",
    "np.random.shuffle(data)\n",
    "\n",
    "test_data = data[0:1000].T\n",
    "test_Y = test_data[0]\n",
    "test_X = test_data[1:]/255\n",
    "\n",
    "train_data = data[1000:].T\n",
    "train_Y = train_data[0]\n",
    "train_X = train_data[1:]/255\n",
    "pixels, m = train_X.shape\n",
    "\n",
    "\n",
    "#neuron amount\n",
    "H1 = 10\n",
    "H2 = 10\n",
    "Output = 10\n"
   ]
  },
  {
   "cell_type": "code",
   "execution_count": 47,
   "metadata": {
    "editable": false,
    "execution": {
     "iopub.execute_input": "2025-04-28T01:17:22.194296Z",
     "iopub.status.busy": "2025-04-28T01:17:22.193459Z",
     "iopub.status.idle": "2025-04-28T01:17:22.201758Z",
     "shell.execute_reply": "2025-04-28T01:17:22.200867Z",
     "shell.execute_reply.started": "2025-04-28T01:17:22.194265Z"
    },
    "trusted": true
   },
   "outputs": [],
   "source": [
    "def init_parameters(H1,H2,pixels,results):\n",
    "    W3 = np.random.rand(H1,pixels)-0.5\n",
    "    B3 = np.random.rand(H1,1)-0.5\n",
    "    W2 = np.random.rand(H2,H1)-0.5\n",
    "    B2 = np.random.rand(H2,1)-0.5\n",
    "    W1 = np.random.rand(results,H2)-0.5\n",
    "    B1 = np.random.rand(results,1)-0.5\n",
    "    return W3,B3,W2,B2,W1,B1\n",
    "\n",
    "def ReLu(Z):\n",
    "    return np.maximum(0,Z)\n",
    "\n",
    "def sig(Z):\n",
    "    return 1/(1+np.exp(-Z))\n",
    "\n",
    "#def softmax(Z):\n",
    "    #return np.exp(Z)/sum(np.exp(Z))\n",
    "\n",
    "def forward_propogation(X,W3,B3,W2,B2,W1,B1):\n",
    "    Z2 = W3.dot(X)+B3\n",
    "    A2 = ReLu(Z2)\n",
    "    Z1 = W2.dot(A2)+B2\n",
    "    A1 = sig(Z1)\n",
    "    Z = W1.dot(A1)+B1\n",
    "    A = softmax(Z)\n",
    "    return Z2,A2,Z1,A1,Z,A"
   ]
  },
  {
   "cell_type": "code",
   "execution_count": 48,
   "metadata": {
    "editable": false,
    "execution": {
     "iopub.execute_input": "2025-04-28T01:12:14.191229Z",
     "iopub.status.busy": "2025-04-28T01:12:14.190882Z",
     "iopub.status.idle": "2025-04-28T01:12:14.199319Z",
     "shell.execute_reply": "2025-04-28T01:12:14.198293Z",
     "shell.execute_reply.started": "2025-04-28T01:12:14.191197Z"
    },
    "trusted": true
   },
   "outputs": [],
   "source": [
    "def one_hot(Y):\n",
    "    Y_one_hot = np.zeros((Y.size, Y.max()+1)) #LEARN NEED (())\n",
    "    Y_one_hot[np.arange(Y.size),Y] = 1    #LEARN\n",
    "    return Y_one_hot.T\n",
    "\n",
    "\n",
    "def derv_sig(Z):\n",
    "    return np.exp(-Z)/(1+np.exp(-Z))**2\n",
    "\n",
    "\n",
    "def derv_ReLu(Z):\n",
    "    return Z > 0 #LEARN HOW TRUTH STATEMETNS IN ARRAYS WORK\n",
    "\n",
    "def back_propogation(X,Y,Z2,A2,Z1,A1,Z,A,W1,W2):\n",
    "    Y = one_hot(Y)\n",
    "\n",
    "    #why 1/m everytime???\n",
    "    \n",
    "    dz1 = A-Y\n",
    "    dw1 = 1/m * dz1.dot(A1.T)\n",
    "    db1 = 1/m * np.sum(dz1)\n",
    "\n",
    "    dz2 = W1.T.dot(dz1)*derv_sig(Z1)\n",
    "    dw2 = 1/m*dz2.dot(A2.T) \n",
    "    db2 = 1/m*np.sum(dz2) #1/m * dz1.dot(W1.T).dot(derv_sig(Z1))\n",
    "\n",
    "    dz3 = W2.T.dot(dz2) * derv_ReLu(Z2)\n",
    "    dw3 = 1/m*dz3.dot(X.T)\n",
    "    db3 = 1/m*np.sum(dz3)\n",
    "\n",
    "    return dw1, db1, dw2, db2, dw3, db3\n",
    "    "
   ]
  },
  {
   "cell_type": "code",
   "execution_count": 49,
   "metadata": {
    "editable": false,
    "execution": {
     "iopub.execute_input": "2025-04-28T01:17:36.013589Z",
     "iopub.status.busy": "2025-04-28T01:17:36.013299Z",
     "iopub.status.idle": "2025-04-28T01:17:36.022169Z",
     "shell.execute_reply": "2025-04-28T01:17:36.020665Z",
     "shell.execute_reply.started": "2025-04-28T01:17:36.013568Z"
    },
    "trusted": true
   },
   "outputs": [],
   "source": [
    "def get_accuracy(A,Y):\n",
    "    return sum(np.argmax(A,0) == Y)/Y.size #LEARN ARGMAX\n",
    "       \n",
    "  \n",
    "\n",
    "def gradient_descent(X,Y,alpha,iterations):\n",
    "    W3,B3,W2,B2,W1,B1 = init_parameters(H1, H2, pixels, train_Y.max()+1)\n",
    "    for i in range(iterations):\n",
    "        Z2,A2,Z1,A1,Z,A = forward_propogation(train_X,W3,B3,W2,B2,W1,B1)\n",
    "        dw1,db1,dw2,db2,dw3,db3 = back_propogation(train_X,train_Y,Z2,A2,Z1,A1,Z,A,W1,W2)\n",
    "\n",
    "        W3 = W3 - dw3*alpha\n",
    "        B3 = B3 - db3*alpha\n",
    "        W2 = W2 - dw2*alpha\n",
    "        B2 = B2 - db2*alpha\n",
    "        W1 = W1 - dw1*alpha\n",
    "        B1 = B1 - db1*alpha\n",
    "\n",
    "        if (i%100 ==0):\n",
    "            print(f\"Iteration:{i}\")\n",
    "            print(get_accuracy(A,Y))\n",
    "    return W3,B3,W2,B2,W1,B1"
   ]
  },
  {
   "cell_type": "code",
   "execution_count": 31,
   "metadata": {},
   "outputs": [
    {
     "name": "stdout",
     "output_type": "stream",
     "text": [
      "train_X.shape: (785, 28900)\n",
      "pixels: 785\n",
      "m: 28900\n"
     ]
    }
   ],
   "source": [
    "print(\"train_X.shape:\", train_X.shape)\n",
    "print(\"pixels:\", pixels)\n",
    "print(\"m:\", m)\n"
   ]
  },
  {
   "cell_type": "code",
   "execution_count": 50,
   "metadata": {
    "editable": false,
    "execution": {
     "iopub.execute_input": "2025-04-28T01:17:39.167982Z",
     "iopub.status.busy": "2025-04-28T01:17:39.167278Z",
     "iopub.status.idle": "2025-04-28T01:19:06.395071Z",
     "shell.execute_reply": "2025-04-28T01:19:06.394178Z",
     "shell.execute_reply.started": "2025-04-28T01:17:39.167951Z"
    },
    "trusted": true
   },
   "outputs": [
    {
     "name": "stdout",
     "output_type": "stream",
     "text": [
      "Iteration:0\n",
      "0.10477508650519031\n",
      "Iteration:100\n",
      "0.487439446366782\n",
      "Iteration:200\n",
      "0.7323529411764705\n",
      "Iteration:300\n",
      "0.8370588235294117\n",
      "Iteration:400\n",
      "0.8739446366782007\n",
      "Iteration:500\n",
      "0.8937716262975779\n",
      "Iteration:600\n",
      "0.9042906574394464\n",
      "Iteration:700\n",
      "0.9121107266435986\n",
      "Iteration:800\n",
      "0.9194117647058824\n",
      "Iteration:900\n",
      "0.9248442906574394\n"
     ]
    }
   ],
   "source": [
    "W3,B3,W2,B2,W1,B1 = gradient_descent(train_X, train_Y, 0.1,1000)"
   ]
  },
  {
   "cell_type": "code",
   "execution_count": null,
   "metadata": {},
   "outputs": [],
   "source": []
  }
 ],
 "metadata": {
  "kaggle": {
   "accelerator": "none",
   "dataSources": [
    {
     "databundleVersionId": 861823,
     "sourceId": 3004,
     "sourceType": "competition"
    }
   ],
   "dockerImageVersionId": 31012,
   "isGpuEnabled": false,
   "isInternetEnabled": false,
   "language": "python",
   "sourceType": "notebook"
  },
  "kernelspec": {
   "display_name": "Python 3",
   "language": "python",
   "name": "python3"
  },
  "language_info": {
   "codemirror_mode": {
    "name": "ipython",
    "version": 3
   },
   "file_extension": ".py",
   "mimetype": "text/x-python",
   "name": "python",
   "nbconvert_exporter": "python",
   "pygments_lexer": "ipython3",
   "version": "3.12.4"
  }
 },
 "nbformat": 4,
 "nbformat_minor": 4
}
