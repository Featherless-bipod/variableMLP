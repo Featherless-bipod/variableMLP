{
 "cells": [
  {
   "cell_type": "code",
   "execution_count": 1,
   "metadata": {
    "_cell_guid": "b1076dfc-b9ad-4769-8c92-a6c4dae69d19",
    "_uuid": "8f2839f25d086af736a60e9eeb907d3b93b6e0e5",
    "editable": false,
    "trusted": true
   },
   "outputs": [],
   "source": [
    "#HouseKeeping\n",
    "import numpy as np \n",
    "import pandas as pd \n",
    "\n",
    "data = pd.read_csv('TMNIST_Data.csv')"
   ]
  },
  {
   "cell_type": "code",
   "execution_count": 2,
   "metadata": {},
   "outputs": [],
   "source": [
    "data = data.drop(\"names\",axis=1)"
   ]
  },
  {
   "cell_type": "code",
   "execution_count": 3,
   "metadata": {
    "editable": false,
    "execution": {
     "iopub.execute_input": "2025-05-09T10:57:38.736575Z",
     "iopub.status.busy": "2025-05-09T10:57:38.736273Z",
     "iopub.status.idle": "2025-05-09T10:57:39.554276Z",
     "shell.execute_reply": "2025-05-09T10:57:39.553401Z",
     "shell.execute_reply.started": "2025-05-09T10:57:38.736553Z"
    },
    "trusted": true
   },
   "outputs": [
    {
     "data": {
      "text/plain": [
       "28900"
      ]
     },
     "execution_count": 3,
     "metadata": {},
     "output_type": "execute_result"
    }
   ],
   "source": [
    "data = np.array(data)\n",
    "np.random.shuffle(data)\n",
    "results = 10 #number of nodes output\n",
    "\n",
    "test_data = data[0:1000].T\n",
    "test_y  = test_data[0]\n",
    "test_x  = test_data[1:]/255\n",
    "\n",
    "train_data = data[1000:].T\n",
    "train_y = train_data[0]\n",
    "train_x = train_data[1:]/255\n",
    "\n",
    "pixels, train_trials = train_x.shape\n",
    "\n",
    "train_y.size"
   ]
  },
  {
   "cell_type": "code",
   "execution_count": null,
   "metadata": {},
   "outputs": [],
   "source": []
  },
  {
   "cell_type": "code",
   "execution_count": 4,
   "metadata": {
    "editable": false,
    "execution": {
     "iopub.execute_input": "2025-05-09T10:57:41.834348Z",
     "iopub.status.busy": "2025-05-09T10:57:41.834042Z",
     "iopub.status.idle": "2025-05-09T10:57:41.842862Z",
     "shell.execute_reply": "2025-05-09T10:57:41.841875Z",
     "shell.execute_reply.started": "2025-05-09T10:57:41.834326Z"
    },
    "trusted": true
   },
   "outputs": [],
   "source": [
    "def init_parameters(H, N, pixels, results):\n",
    "    params = []\n",
    "    # 1st layer\n",
    "    params.append([\n",
    "        np.random.rand(N, pixels) - 0.5,  \n",
    "        np.random.rand(N, 1) - 0.5       \n",
    "    ])\n",
    "    # the rest\n",
    "    for _ in range(H-1):\n",
    "        params.append([\n",
    "            np.random.rand(N, N) - 0.5,   \n",
    "            np.random.rand(N, 1) - 0.5    \n",
    "        ])\n",
    "    # output layer\n",
    "    params.append([\n",
    "        np.random.rand(results, N) - 0.5,  \n",
    "        np.random.rand(results, 1) - 0.5   \n",
    "    ])\n",
    "    return params\n",
    "\n",
    "\n",
    "def ReLu(Z):\n",
    "    return np.maximum(0,Z)\n",
    "#def softmax(Z): \n",
    "    #return np.exp(Z)/sum(np.exp(Z))\n",
    "\n",
    "def softmax(Z):\n",
    "    expZ = np.exp(Z - np.max(Z, axis=0, keepdims=True))\n",
    "    return expZ / np.sum(expZ, axis=0, keepdims=True)\n",
    "\n",
    "def forward_propogation(IN, params):\n",
    "    Zs, As = [], [IN]  # As starts with input X\n",
    "    \n",
    "    for W, b in params[:-1]:  # Process all but last layer\n",
    "        Z = np.dot(W, As[-1]) + b\n",
    "        A = ReLu(Z)  # or sigmoid for first layer\n",
    "        Zs.append(Z)\n",
    "        As.append(A)\n",
    "    \n",
    "    # Output layer (softmax)\n",
    "    W_out, b_out = params[-1]\n",
    "    Z_out = np.dot(W_out, As[-1]) + b_out\n",
    "    OUT = softmax(Z_out)\n",
    "    \n",
    "    return OUT, Zs, As\n",
    "        "
   ]
  },
  {
   "cell_type": "code",
   "execution_count": 5,
   "metadata": {
    "editable": false,
    "execution": {
     "iopub.execute_input": "2025-05-09T11:08:09.700615Z",
     "iopub.status.busy": "2025-05-09T11:08:09.700293Z",
     "iopub.status.idle": "2025-05-09T11:08:09.709582Z",
     "shell.execute_reply": "2025-05-09T11:08:09.708594Z",
     "shell.execute_reply.started": "2025-05-09T11:08:09.700591Z"
    },
    "trusted": true
   },
   "outputs": [],
   "source": [
    "def one_hot(Y):\n",
    "    Y_one_hot = np.zeros((Y.size, Y.max()+1)) #LEARN NEED (())\n",
    "    Y_one_hot[np.arange(Y.size),Y] = 1    #LEARN\n",
    "    return Y_one_hot.T\n",
    "\n",
    "def derv_sigmoid(Z):\n",
    "    return np.exp(-Z)/(1+np.exp(-Z))**2\n",
    "def derv_ReLu(Z): \n",
    "    return Z > 0\n",
    "\n",
    "def back_propogation(OUT,train_y, Z, A, params):\n",
    "    Y = one_hot(train_y)\n",
    "    m = train_y.size\n",
    "\n",
    "    gradient = []\n",
    "\n",
    "    dz = OUT - Y\n",
    "    dw = 1/m * np.dot(dz, A[-2].T)  # Changed from A[-1] to A[-2]\n",
    "    db = 1/m * np.sum(dz, axis=1, keepdims=True)\n",
    "    gradient.append([dw, db])\n",
    "    \n",
    "    for i in range(1, len(Z)):\n",
    "        dz = np.dot(params[-i][0].T, dz) * derv_ReLu(Z[-i])\n",
    "        # For first hidden layer, use input X instead of A[-1-i]\n",
    "        if i == len(Z)-1:\n",
    "            dw = 1/m * np.dot(dz, train_x.T)\n",
    "        else:\n",
    "            dw = 1/m * np.dot(dz, A[-1-i].T)\n",
    "        db = 1/m * np.sum(dz, axis=1, keepdims=True)\n",
    "        gradient.append([dw, db])\n",
    "\n",
    "        print(f\"Layer {i} gradient shapes:\")\n",
    "        print(f\"  dW shape: {dw.shape} (should match {params[i][0].shape})\")\n",
    "        print(f\"  db shape: {db.shape} (should match {params[i][1].shape})\")\n",
    "    \n",
    "    return gradient"
   ]
  },
  {
   "cell_type": "code",
   "execution_count": 6,
   "metadata": {
    "editable": false,
    "execution": {
     "iopub.execute_input": "2025-05-09T11:13:56.219138Z",
     "iopub.status.busy": "2025-05-09T11:13:56.218817Z",
     "iopub.status.idle": "2025-05-09T11:13:56.229676Z",
     "shell.execute_reply": "2025-05-09T11:13:56.228449Z",
     "shell.execute_reply.started": "2025-05-09T11:13:56.219120Z"
    },
    "trusted": true
   },
   "outputs": [],
   "source": [
    "def get_accuracy(A,Y):\n",
    "    return sum(np.argmax(A,0) == Y)/Y.size #LEARN ARGMAX\n",
    "\n",
    "def back_propogation(OUT, train_y, Z, A, params):\n",
    "    Y = one_hot(train_y)\n",
    "    m = train_y.size\n",
    "\n",
    "    gradient = []\n",
    "\n",
    "    dz = OUT - Y\n",
    "    dw = 1/m * np.dot(dz, A[-2].T)  # Changed from A[-1] to A[-2]\n",
    "    db = 1/m * np.sum(dz, axis=1, keepdims=True)\n",
    "    gradient.append([dw, db])\n",
    "    \n",
    "    for i in range(1, len(params)):  # Changed from len(Z) to len(params)\n",
    "        dz = np.dot(params[-i][0].T, dz) * derv_ReLu(Z[-i])\n",
    "        dw = 1/m * np.dot(dz, A[-i-1].T)  # Changed index to -i-1\n",
    "        db = 1/m * np.sum(dz, axis=1, keepdims=True)\n",
    "        gradient.append([dw, db])\n",
    "    \n",
    "    return gradient[::-1]  # Reverse to match params order\n",
    "\n",
    "def gradient_descent(H, N, X, Y, pixels, results, iterations, alpha):\n",
    "    params = init_parameters(H, N, pixels, results)\n",
    "    for i in range(iterations):\n",
    "        OUT, Z, A = forward_propogation(X, params)\n",
    "        gradient = back_propogation(OUT, Y, Z, A, params)\n",
    "        \n",
    "        # Update parameters\n",
    "        for j in range(len(params)):\n",
    "            params[j][0] -= alpha * gradient[-j][0]\n",
    "            params[j][1] -= alpha * gradient[-j][1]\n",
    "        \n",
    "        if i % 100 == 0:\n",
    "            alpha = alpha/1\n",
    "            print(f\"Iteration:{i}\")\n",
    "            print(get_accuracy(A[-1], Y))\n",
    "\n",
    "    return params"
   ]
  },
  {
   "cell_type": "code",
   "execution_count": 7,
   "metadata": {
    "editable": false,
    "execution": {
     "iopub.execute_input": "2025-05-09T10:56:37.134852Z",
     "iopub.status.busy": "2025-05-09T10:56:37.134522Z",
     "iopub.status.idle": "2025-05-09T10:56:37.210048Z",
     "shell.execute_reply": "2025-05-09T10:56:37.208963Z",
     "shell.execute_reply.started": "2025-05-09T10:56:37.134816Z"
    },
    "trusted": true
   },
   "outputs": [],
   "source": [
    "params = init_parameters(3,10,pixels,results)\n",
    "OUT,Z,A = forward_propogation(train_x,params)\n",
    "gradient = back_propogation(OUT,train_y,Z,A,params)"
   ]
  },
  {
   "cell_type": "code",
   "execution_count": 10,
   "metadata": {
    "editable": false,
    "execution": {
     "iopub.execute_input": "2025-05-09T11:13:58.927320Z",
     "iopub.status.busy": "2025-05-09T11:13:58.926969Z",
     "iopub.status.idle": "2025-05-09T11:15:25.209410Z",
     "shell.execute_reply": "2025-05-09T11:15:25.208466Z",
     "shell.execute_reply.started": "2025-05-09T11:13:58.927296Z"
    },
    "trusted": true
   },
   "outputs": [
    {
     "name": "stdout",
     "output_type": "stream",
     "text": [
      "Iteration:0\n",
      "0.09297577854671281\n",
      "Iteration:100\n",
      "0.11107266435986159\n",
      "Iteration:200\n",
      "0.12653979238754326\n",
      "Iteration:300\n",
      "0.17653979238754325\n",
      "Iteration:400\n",
      "0.21332179930795847\n",
      "Iteration:500\n",
      "0.20878892733564014\n",
      "Iteration:600\n",
      "0.1993771626297578\n",
      "Iteration:700\n",
      "0.18321799307958478\n",
      "Iteration:800\n",
      "0.1652249134948097\n",
      "Iteration:900\n",
      "0.15916955017301038\n"
     ]
    }
   ],
   "source": [
    "params = gradient_descent(2,10,train_x,train_y,pixels,results,1000,0.01)"
   ]
  }
 ],
 "metadata": {
  "kaggle": {
   "accelerator": "none",
   "dataSources": [
    {
     "databundleVersionId": 861823,
     "sourceId": 3004,
     "sourceType": "competition"
    }
   ],
   "dockerImageVersionId": 31012,
   "isGpuEnabled": false,
   "isInternetEnabled": false,
   "language": "python",
   "sourceType": "notebook"
  },
  "kernelspec": {
   "display_name": "Python 3",
   "language": "python",
   "name": "python3"
  },
  "language_info": {
   "codemirror_mode": {
    "name": "ipython",
    "version": 3
   },
   "file_extension": ".py",
   "mimetype": "text/x-python",
   "name": "python",
   "nbconvert_exporter": "python",
   "pygments_lexer": "ipython3",
   "version": "3.12.4"
  }
 },
 "nbformat": 4,
 "nbformat_minor": 4
}
